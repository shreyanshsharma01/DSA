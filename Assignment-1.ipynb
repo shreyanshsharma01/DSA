{
 "cells": [
  {
   "attachments": {},
   "cell_type": "markdown",
   "id": "10c827cd",
   "metadata": {},
   "source": [
    "### **Q1.** Given an array of integers nums and an integer target, return indices of the two numbers such that they add up to target.\n",
    "\n",
    "You may assume that each input would have exactly one solution, and you may not use the same element twice.\n",
    "\n",
    "You can return the answer in any order."
   ]
  },
  {
   "cell_type": "code",
   "execution_count": 1,
   "id": "82f5480f",
   "metadata": {},
   "outputs": [],
   "source": [
    "#two sum approach\n",
    "def two_sum(number, target):\n",
    "    \n",
    "    #creating dictonary\n",
    "    dic = {}\n",
    "    \n",
    "    #Travel thr the array\n",
    "    for i, j in enumerate(number):\n",
    "            c = target - j\n",
    "            \n",
    "            if c in dic:\n",
    "                return [dic[c], i]\n",
    "            \n",
    "            dic[j] = i\n",
    "    return [] #if no soulution found                "
   ]
  },
  {
   "cell_type": "code",
   "execution_count": 2,
   "id": "e5eb813b",
   "metadata": {},
   "outputs": [
    {
     "data": {
      "text/plain": [
       "[0, 1]"
      ]
     },
     "execution_count": 2,
     "metadata": {},
     "output_type": "execute_result"
    }
   ],
   "source": [
    "two_sum([2, 7, 11, 15], 9)"
   ]
  },
  {
   "attachments": {},
   "cell_type": "markdown",
   "id": "875d2eea",
   "metadata": {},
   "source": [
    "### **Q2.** Given an integer array nums and an integer val, remove all occurrences of val in nums in-place. The order of the elements may be changed. Then return the number of elements in nums which are not equal to val.\n",
    "\n",
    "Consider the number of elements in nums which are not equal to val be k, to get accepted, you need to do the following things:\n",
    "\n",
    "- Change the array nums such that the first k elements of nums contain the elements which are not equal to val. The remaining elements of nums are not important as well as the size of nums.\n",
    "- Return k."
   ]
  },
  {
   "cell_type": "code",
   "execution_count": 9,
   "id": "91604c59",
   "metadata": {},
   "outputs": [],
   "source": [
    "#To point approach\n",
    "\n",
    "def remove_element(array, value):\n",
    "    left = 0\n",
    "    right = len(array) - 1\n",
    "    \n",
    "    while left <= right:\n",
    "        \n",
    "        if array[left] == value:\n",
    "            array[left] = array[right]\n",
    "            right -= 1\n",
    "        else:\n",
    "            left += 1\n",
    "    \n",
    "    return left"
   ]
  },
  {
   "cell_type": "code",
   "execution_count": 10,
   "id": "f45159af",
   "metadata": {},
   "outputs": [
    {
     "data": {
      "text/plain": [
       "2"
      ]
     },
     "execution_count": 10,
     "metadata": {},
     "output_type": "execute_result"
    }
   ],
   "source": [
    "remove_element([3, 2, 2, 3], 3)"
   ]
  },
  {
   "attachments": {},
   "cell_type": "markdown",
   "id": "81e4a158",
   "metadata": {},
   "source": [
    "###  **Q3.** Given a sorted array of distinct integers and a target value, return the index if the target is found. If not, return the index where it would be if it were inserted in order.\n",
    "\n",
    "You must write an algorithm with O(log n) runtime complexity."
   ]
  },
  {
   "cell_type": "code",
   "execution_count": 12,
   "id": "5e7e230c",
   "metadata": {},
   "outputs": [],
   "source": [
    "#Binary search algorithm\n",
    "\n",
    "def search(array, target):\n",
    "    left = 0\n",
    "    right = len(array) - 1\n",
    "    \n",
    "    while left <= right:\n",
    "        mid = (left + right) //2\n",
    "        \n",
    "        if array[mid] == target:\n",
    "            return mid\n",
    "        elif array[mid] < target:\n",
    "            left = mid + 1\n",
    "        else:\n",
    "            right = mid - 1\n",
    "    return left"
   ]
  },
  {
   "cell_type": "code",
   "execution_count": 13,
   "id": "b46d9c0e",
   "metadata": {},
   "outputs": [
    {
     "data": {
      "text/plain": [
       "2"
      ]
     },
     "execution_count": 13,
     "metadata": {},
     "output_type": "execute_result"
    }
   ],
   "source": [
    "search([1, 3, 5, 6], 5)"
   ]
  },
  {
   "attachments": {},
   "cell_type": "markdown",
   "id": "0c5b0dac",
   "metadata": {},
   "source": [
    "### **Q4.** You are given a large integer represented as an integer array digits, where each digits[i] is the ith digit of the integer. The digits are ordered from most significant to least significant in left-to-right order. The large integer does not contain any leading 0's.\n",
    "\n",
    "Increment the large integer by one and return the resulting array of digits.\n"
   ]
  },
  {
   "cell_type": "code",
   "execution_count": 15,
   "id": "6e66ef86",
   "metadata": {},
   "outputs": [],
   "source": [
    "def add(array):\n",
    "    n = len(array)\n",
    "    \n",
    "    #To get least significant digit:\n",
    "    \n",
    "    for i in range(n-1, -1, -1):\n",
    "        if array[i] < 9:\n",
    "            array[i] += 1\n",
    "            return array\n",
    "        else:\n",
    "            array[i] = 0\n",
    "            \n",
    "        return [1] + array #if all are 9"
   ]
  },
  {
   "cell_type": "code",
   "execution_count": 16,
   "id": "4e5578dd",
   "metadata": {},
   "outputs": [
    {
     "data": {
      "text/plain": [
       "[1, 2, 4]"
      ]
     },
     "execution_count": 16,
     "metadata": {},
     "output_type": "execute_result"
    }
   ],
   "source": [
    "add([1, 2, 3])"
   ]
  },
  {
   "attachments": {},
   "cell_type": "markdown",
   "id": "0a101de4",
   "metadata": {},
   "source": [
    "### Q5. You are given two integer arrays nums1 and nums2, sorted in non-decreasing order, and two integers m and n, representing the number of elements in nums1 and nums2 respectively.\n",
    "\n",
    "Merge nums1 and nums2 into a single array sorted in non-decreasing order.\n",
    "\n",
    "The final sorted array should not be returned by the function, but instead be stored inside the array nums1. To accommodate this, nums1 has a length of m + n, where the first m elements denote the elements that should be merged, and the last n elements are set to 0 and should be ignored. nums2 has a length of n."
   ]
  },
  {
   "cell_type": "code",
   "execution_count": 24,
   "id": "84d2c37e",
   "metadata": {},
   "outputs": [],
   "source": [
    "#two pointers approach\n",
    "\n",
    "def merge(nums1, m, nums2, n):\n",
    "    # Create a copy of nums1\n",
    "    merged = nums1[:m]\n",
    "    i = j = k = 0\n",
    "    while i < m and j < n:\n",
    "        if merged[i] <= nums2[j]:\n",
    "            nums1[k] = merged[i]\n",
    "            i += 1\n",
    "        else:\n",
    "            nums1[k] = nums2[j]\n",
    "            j += 1\n",
    "        k += 1\n",
    "    while i < m:\n",
    "        nums1[k] = merged[i]\n",
    "        i += 1\n",
    "        k += 1\n",
    "    while j < n:\n",
    "        nums1[k] = nums2[j]\n",
    "        j += 1\n",
    "        k += 1\n",
    "    return nums1"
   ]
  },
  {
   "cell_type": "code",
   "execution_count": 25,
   "id": "91ef35ea",
   "metadata": {},
   "outputs": [
    {
     "data": {
      "text/plain": [
       "[1, 2, 2, 3, 5, 6]"
      ]
     },
     "execution_count": 25,
     "metadata": {},
     "output_type": "execute_result"
    }
   ],
   "source": [
    "merge([1, 2, 3, 0, 0, 0], 3, [2, 5, 6], 3)"
   ]
  },
  {
   "attachments": {},
   "cell_type": "markdown",
   "id": "cce7d9a8",
   "metadata": {},
   "source": [
    "### Q6. Given an integer array nums, return true if any value appears at least twice in the array, and return false if every element is distinct."
   ]
  },
  {
   "cell_type": "code",
   "execution_count": 32,
   "id": "1ec039a4",
   "metadata": {},
   "outputs": [],
   "source": [
    "def distinct(array):\n",
    "    \n",
    "    values = set() # for getting distinct values we create set()\n",
    "    \n",
    "    for i in array:\n",
    "        if i in values:\n",
    "            return True\n",
    "        values.add(i)\n",
    "        \n",
    "    return False"
   ]
  },
  {
   "cell_type": "code",
   "execution_count": 33,
   "id": "9ab39a58",
   "metadata": {},
   "outputs": [
    {
     "data": {
      "text/plain": [
       "True"
      ]
     },
     "execution_count": 33,
     "metadata": {},
     "output_type": "execute_result"
    }
   ],
   "source": [
    "distinct([1, 2, 3, 1])"
   ]
  },
  {
   "attachments": {},
   "cell_type": "markdown",
   "id": "48840096",
   "metadata": {},
   "source": [
    "###  **Q7.** Given an integer array nums, move all 0's to the end of it while maintaining the relative order of the nonzero elements.\n",
    "\n",
    "Note that you must do this in-place without making a copy of the array.\n"
   ]
  },
  {
   "cell_type": "code",
   "execution_count": 38,
   "id": "f8f83be6",
   "metadata": {},
   "outputs": [],
   "source": [
    "#Pointer approach\n",
    "def move(array):\n",
    "    left = 0\n",
    "    right = 0\n",
    "    \n",
    "    while right < len(array):\n",
    "        if array[right] != 0:\n",
    "            array[left], array[right] = array[right], array[left]\n",
    "            left += 1\n",
    "        right += 1\n",
    "            \n",
    "    while left < len(array):\n",
    "        array[left] = 0\n",
    "        left += 1\n",
    "    return array"
   ]
  },
  {
   "cell_type": "code",
   "execution_count": 39,
   "id": "b57a6f6d",
   "metadata": {},
   "outputs": [
    {
     "data": {
      "text/plain": [
       "[1, 3, 12, 0, 0]"
      ]
     },
     "execution_count": 39,
     "metadata": {},
     "output_type": "execute_result"
    }
   ],
   "source": [
    "move([0, 1, 0, 3, 12])"
   ]
  },
  {
   "attachments": {},
   "cell_type": "markdown",
   "id": "e0252dbe",
   "metadata": {},
   "source": [
    "### **Q8.** You have a set of integers s, which originally contains all the numbers from 1 to n. Unfortunately, due to some error, one of the numbers in s got duplicated to another number in the set, which results in repetition of one number and loss of another number.\n",
    "\n",
    "You are given an integer array nums representing the data status of this set after the error.\n",
    "\n",
    "Find the number that occurs twice and the number that is missing and return them in the form of an array."
   ]
  },
  {
   "cell_type": "code",
   "execution_count": 41,
   "id": "4358118a",
   "metadata": {},
   "outputs": [],
   "source": [
    "def find_no(array):\n",
    "\n",
    "    n = len(array)\n",
    "    num_set = set()\n",
    "    #let duplicate number be -1 & missing number also be -1\n",
    "    \n",
    "    duplicate_no = -1\n",
    "    missing_no = -1\n",
    "    \n",
    "    #for duplicate\n",
    "    for i in array:\n",
    "        if i in num_set:\n",
    "            duplicate_no = i\n",
    "            break\n",
    "        num_set.add(i)\n",
    "        \n",
    "    #for missing \n",
    "    for i in range(1, n+1):\n",
    "        if i not in num_set:\n",
    "            missing_no = i\n",
    "            break \n",
    "            \n",
    "    return [duplicate_no, missing_no]"
   ]
  },
  {
   "cell_type": "code",
   "execution_count": 42,
   "id": "995d15b5",
   "metadata": {},
   "outputs": [
    {
     "data": {
      "text/plain": [
       "[2, 3]"
      ]
     },
     "execution_count": 42,
     "metadata": {},
     "output_type": "execute_result"
    }
   ],
   "source": [
    "find_no([1, 2, 2, 4])"
   ]
  }
 ],
 "metadata": {
  "kernelspec": {
   "display_name": "Python 3 (ipykernel)",
   "language": "python",
   "name": "python3"
  },
  "language_info": {
   "codemirror_mode": {
    "name": "ipython",
    "version": 3
   },
   "file_extension": ".py",
   "mimetype": "text/x-python",
   "name": "python",
   "nbconvert_exporter": "python",
   "pygments_lexer": "ipython3",
   "version": "3.9.16"
  }
 },
 "nbformat": 4,
 "nbformat_minor": 5
}
